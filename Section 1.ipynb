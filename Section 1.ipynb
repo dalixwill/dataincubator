{
 "cells": [
  {
   "cell_type": "markdown",
   "metadata": {},
   "source": [
    "    First, let's try to import the data directly from the web. We load the requisite libraries below."
   ]
  },
  {
   "cell_type": "code",
   "execution_count": 75,
   "metadata": {},
   "outputs": [],
   "source": [
    "import pandas as pd\n",
    "import numpy as np\n",
    "import matplotlib.pyplot as plt"
   ]
  },
  {
   "cell_type": "code",
   "execution_count": 255,
   "metadata": {},
   "outputs": [],
   "source": [
    "# Load dataframe\n",
    "data = pd.read_csv('Arrest_Data_from_2010_to_Present.csv')\n",
    "\n",
    "# One way to see all the years is to convert 'Arrest Date' to DatetimeIndex type and extract the year.\n",
    "years = pd.DatetimeIndex(data['Arrest Date']).year\n",
    "\n",
    "# Add 'Arrest Year' as a column\n",
    "data['Arrest Year'] = years"
   ]
  },
  {
   "cell_type": "code",
   "execution_count": 14,
   "metadata": {},
   "outputs": [
    {
     "name": "stdout",
     "output_type": "stream",
     "text": [
      "104277 bookings were made in 2018.\n"
     ]
    }
   ],
   "source": [
    "\"\"\"\n",
    "    How many bookings of arrestees were made in 2018?\n",
    "\"\"\"\n",
    "nArrestees2018 = len(data[data['Arrest Year'] == 2018])\n",
    "print(\"{} bookings were made in 2018.\".format(nArrestees2018))"
   ]
  },
  {
   "cell_type": "code",
   "execution_count": 15,
   "metadata": {},
   "outputs": [
    {
     "name": "stdout",
     "output_type": "stream",
     "text": [
      "10951 bookings were made in the area with the most arrests.\n"
     ]
    }
   ],
   "source": [
    "\"\"\"\n",
    "    How many bookings of arrestees were made in the area with the most arrests in 2018?\n",
    "\"\"\" \n",
    "\n",
    "# Create new data frame which is a subset of the original where arrest year is 2018\n",
    "data_2018 = data[data['Arrest Year'] == 2018]\n",
    "\n",
    "# Count the unique occurrences of Area IDs\n",
    "nBookingsMaxArea = data_2018[\"Area ID\"].value_counts().max()\n",
    "print(\"{} bookings were made in the area with the most arrests.\".format(nBookingsMaxArea))"
   ]
  },
  {
   "cell_type": "code",
   "execution_count": 19,
   "metadata": {},
   "outputs": [
    {
     "name": "stdout",
     "output_type": "stream",
     "text": [
      "The age of the 95th quantile is 52.0.\n"
     ]
    }
   ],
   "source": [
    "\"\"\"\n",
    "    What is the 95% quantile of the age of the arrestee in 2018? Only consider the following charge groups\n",
    "    for your analysis: Vehicle Theft, Robbery, Burglary and Receive Stolen Property\n",
    "\n",
    "    Create a data frame that is a subset of the 2018 data where 'Charge Group Description' \n",
    "    matches the aforementioned offenses\n",
    "\"\"\"\n",
    "\n",
    "charge_groups = data_2018[(data_2018['Charge Group Description']=='Vehicle Theft') | \\\n",
    "                          (data_2018['Charge Group Description']=='Robbery') | \\\n",
    "                          (data_2018['Charge Group Description']=='Receive Stolen Property') | \\\n",
    "                          (data_2018['Charge Group Description']=='Burglary')] \n",
    "\n",
    "# Use the pandas quantile function to determine the quantile\n",
    "age95thquantile = charge_groups['Age'].quantile(0.95)\n",
    "print(\"The age of the 95th quantile is {}.\".format(age95thquantile))\n",
    "# NOTE - This analysis includes attempted burglary..."
   ]
  },
  {
   "cell_type": "code",
   "execution_count": 57,
   "metadata": {},
   "outputs": [
    {
     "name": "stdout",
     "output_type": "stream",
     "text": [
      "The largest absolute Z-score is 0.6934284004664495.\n"
     ]
    }
   ],
   "source": [
    "\"\"\" \n",
    "    There are differences between the average age of an arrestee for the various charge groups. \n",
    "    Are these differences statistically significant? \n",
    "    For this question, calculate the Z-score of the average age for each charge group. \n",
    "    Report the largest absolute value among the calculated Z-scores.\n",
    "    \n",
    "    Only consider data for 2018\n",
    "    Do not consider \"Pre-Delinquency\" and \"Non-Criminal Detention\" as these charge groups are reserved for minors\n",
    "    Exclude any arrests where the charge group description is not known\n",
    "\n",
    "\"\"\"\n",
    "# Subset the data to exclude 'Pre-Delinquency', 'Non-Crimal Detention' and 'NA' offenses.\n",
    "cg2 = data_2018[(data_2018['Charge Group Description'] != 'Pre-Delinquency') & \\\n",
    "                (data_2018['Charge Group Description'] != 'Non-Criminal Detention') & \\\n",
    "                (data_2018['Charge Group Code'] != 99.0)]\n",
    "\n",
    "# Remove NAN values\n",
    "cg2 = cg2.dropna(subset=['Charge Group Description'])\n",
    "\n",
    "# Calculate the mean age of all offenders\n",
    "age_mean = cg2[\"Age\"].mean()\n",
    "age_std = cg2[\"Age\"].std()\n",
    "\n",
    "# We next need to iterate through each of the charge group values and determine the \n",
    "# average age associated with each\n",
    "labels = cg2[\"Charge Group Code\"].unique()\n",
    "z_vals = np.zeros(labels.shape)\n",
    "\n",
    "for i_label, v_label in enumerate(labels):\n",
    "    z_vals[i_label] = (cg2['Age'][cg2['Charge Group Code'] == v_label].mean() - age_mean)/age_std\n",
    "\n",
    "# Return the largest z-val    \n",
    "zscoremax = np.max(np.abs(z_vals))  \n",
    "print(\"The largest absolute Z-score is {}.\".format(zscoremax))\n",
    " "
   ]
  },
  {
   "cell_type": "code",
   "execution_count": 82,
   "metadata": {},
   "outputs": [
    {
     "name": "stdout",
     "output_type": "stream",
     "text": [
      "The estimated number of felony arrests in 2019 is 31037\n"
     ]
    },
    {
     "data": {
      "image/png": "[encoded data removed]",
      "text/plain": [
       "<Figure size 432x288 with 1 Axes>"
      ]
     },
     "metadata": {
      "needs_background": "light"
     },
     "output_type": "display_data"
    }
   ],
   "source": [
    "\"\"\"\n",
    "    Felony arrest incidents have been dropping over the years. \n",
    "    Using a trend line (linear estimation) for the data from 2010 and 2018 (inclusive), \n",
    "    what is the projected number of felony arrests in 2019? \n",
    "    Round to the nearest integer. \n",
    "    \n",
    "    Note, the data set includes arrests for misdemeanor, felonies, etc.\n",
    "    \n",
    "\"\"\"\n",
    "\n",
    "# Initialize numpy arrays to contain the dates and number of felony arrests\n",
    "all_years = np.arange(2010, 2019)\n",
    "felony_arrests = np.zeros(all_years.shape)\n",
    "\n",
    "# Felonies have 'Arrest Type Code' = F. Count the number of felonies for a given year.\n",
    "for iyear, ayear in enumerate(all_years):\n",
    "    felony_arrests[iyear] = len(data[(data['Arrest Year'] == ayear) & (data['Arrest Type Code'] == 'F')])\n",
    "    \n",
    "# Compute linear fit to data\n",
    "m, b = np.polyfit(all_years, felony_arrests, 1)\n",
    "    \n",
    "# Plot the data, linear fit\n",
    "plt.figure()\n",
    "plt.plot(all_years, felony_arrests, 'o', label='Data')\n",
    "plt.plot(all_years, m*all_years + b, 'r-', label='Fit')\n",
    "plt.xlabel('Year')\n",
    "plt.ylabel('Felony Arrests')\n",
    "\n",
    "print(\"The estimated number of felony arrests in 2019 is {}\".format(int(m*2019+b)))"
   ]
  },
  {
   "cell_type": "code",
   "execution_count": 174,
   "metadata": {},
   "outputs": [
    {
     "name": "stdout",
     "output_type": "stream",
     "text": [
      "Of the 104277 arrests made in 2018, 11461 were within 2 km of Bradbury building\n"
     ]
    },
    {
     "name": "stderr",
     "output_type": "stream",
     "text": [
      "/Users/dalixwill/opt/anaconda3/lib/python3.7/site-packages/ipykernel_launcher.py:42: RuntimeWarning: invalid value encountered in less\n"
     ]
    }
   ],
   "source": [
    "\"\"\"\n",
    "    How many arrest incidents occurred within 2 km from the Bradbury Building in 2018? \n",
    "    Use (34.050536, -118.247861) for the coordinates of the Bradbury Building . \n",
    "    For simplicity, please use the spherical Earth projected to a plane equation for calculating distances. \n",
    "    Use the radius of the Earth as 6371 km. \n",
    "\n",
    "    Note, some arrest records are missing location data and the location is listed as (0, 0). \n",
    "    These records should not factor in your calculation.\n",
    "\n",
    "\"\"\"\n",
    "\n",
    "rmin2 = 2**2. # squared minimum distance\n",
    "rE2 = 6371**2 # squared radius of Earth [km**2]\n",
    "A = 34.050536 # latitude of Bradbury Building, [degrees]\n",
    "B = -118.247861 # longitude of Bradbury Building, [degrees]\n",
    "\n",
    "all_coords = []\n",
    "d2 = np.zeros(len(data[data['Arrest Year'] == 2018]))\n",
    "\n",
    "# Iterate through coordinates in 'Location' column\n",
    "for index, coords in enumerate(data['Location'][data['Arrest Year'] == 2018]):\n",
    "    \n",
    "    # Combine numerical values (including period and hyphen) intro string, \n",
    "    # separated by spaces for all other characters\n",
    "    coords_ = ''.join((ch if ch in r'-0123456789.' else ' ') for ch in coords)   \n",
    "    \n",
    "    # Create a 2-element list of floats, split by the space character\n",
    "    coords_ = [float(i) for i in coords_.split()]\n",
    "    A_, B_ = coords_[0], coords_[1]\n",
    "    \n",
    "    if A_ == 0 and B_ == 0:\n",
    "        # Exclude (0, 0) coordinates from calculation \n",
    "        d2[index] = np.nan\n",
    "    else:\n",
    "        phi_m = (A + A_)/2.0  # Mean latitude [degrees]\n",
    "        dphi = np.pi*(A_ - A)/180.  # Difference of latitudes [radians]\n",
    "        dlam = np.pi*(B_ - B)/180.  # Difference of longitudes [radians]\n",
    "        d2[index] = rE2*(dphi**2 + (np.cos(np.pi*phi_m/180)*dlam)**2)\n",
    "\n",
    "# Use logical indexing to select all non-nan squared distances less than rmin2        \n",
    "inRadius = d2[np.logical_and(~np.isnan(d2), d2<rmin2)]\n",
    "N_withinRadius = len(inRadius)\n",
    "\n",
    "print(\"Of the {} arrests made in 2018, {} were within 2 km of Bradbury building\".format(len(d2), N_withinRadius))"
   ]
  },
  {
   "cell_type": "code",
   "execution_count": 223,
   "metadata": {},
   "outputs": [
    {
     "name": "stdout",
     "output_type": "stream",
     "text": [
      "The most eastern and western points are at latitudes -118.453 and -118.2159, respectively.\n",
      "The approximate length of PICO street is 21.875430097184957 km.\n",
      "Their were approximately 0.036157735697826376 arrests per km on Pico Boulevard in 2018.\n"
     ]
    }
   ],
   "source": [
    "\"\"\"\n",
    "    How many arrest incidents were made per kilometer on Pico Boulevard during 2018? \n",
    "    For this question, we will need to estimate the length of Pico Boulevard, \n",
    "    which mostly stretches from east to west. To estimate the length of Pico Boulevard:\n",
    "\n",
    "        Consider all location data which the listed address mentions \"Pico\".\n",
    "        Remove outliers by filtering out locations where either the latitude or longitude \n",
    "        is 2 standard deviations beyond the mean of the subset of identified points.\n",
    "        To estimate the length, calculate the distance from the most western and eastern coordinate points. \n",
    "        Use the spherical Earth projected to a plane equation for calculating distances.\n",
    "\n",
    "    Once you have estimated the length of Pico Boulevard, \n",
    "    you can proceed to report the number of arrest incidents per kilometer on Pico Boulevard in 2018.\n",
    "\n",
    "\"\"\"\n",
    "\n",
    "# First, see what events occured on Pico Boulevard in 2018 and save to new dataframe\n",
    "#data_pico2018 = data[(data[\"Cross Street\"] == 'PICO') & \\\n",
    "#                (data[\"Arrest Year\"] == 2018)]\n",
    "data_pico2018 = data[(data['Address'].str.contains(\"PICO\")) &\\\n",
    "                            (data['Arrest Year'] == 2018)]\n",
    "\n",
    "# Initialize empty numpy arrays to store lattitude, longitude data\n",
    "pico_lat = np.zeros(len(data_pico2018))\n",
    "pico_lon = np.zeros(len(data_pico2018))\n",
    "\n",
    "# Iterate through coordinates in 'Location' column of this dataframe\n",
    "for index, coords in enumerate(data_pico2018['Location']):\n",
    "    \n",
    "    # Get corresponding numerical values (floating point values) of coordinates\n",
    "    coords_ = ''.join((ch if ch in r'-0123456789.' else ' ') for ch in coords)\n",
    "    \n",
    "    # Create 2-element list of floats, split by the space character\n",
    "    coords_ = [float(i) for i in coords_.split()]\n",
    "    \n",
    "    # Save lattitude, longitude values\n",
    "    pico_lat[index] = coords_[0]\n",
    "    pico_lon[index] = coords_[1]\n",
    "\n",
    "# Calculate z-scores of lattitude, longitude\n",
    "z_lat = (pico_lat - np.mean(pico_lat))/np.std(pico_lat)\n",
    "z_lon = (pico_lon - np.mean(pico_lon))/np.std(pico_lon)\n",
    "\n",
    "# Create boolean array where values are all True, unless abs(z_lat or z_lon) > 2\n",
    "z_com = np.ones(z_lat.shape, dtype=bool)\n",
    "z_com[np.logical_or(np.abs(z_lat)>2, np.abs(z_lon)>2)] = False\n",
    "\n",
    "# Now must determine most eastern and western point from dataset, index\n",
    "east = np.amin(pico_lon[z_com])\n",
    "ieast = np.argmin(pico_lon[z_com])\n",
    "west = np.amax(pico_lon[z_com])\n",
    "iwest = np.argmax(pico_lon[z_com])\n",
    "\n",
    "phi1 = pico_lat[z_com][ieast]\n",
    "lam1 = pico_lon[z_com][ieast]\n",
    "\n",
    "phi2 = pico_lat[z_com][iwest]\n",
    "lam2 = pico_lon[z_com][iwest]\n",
    "\n",
    "dphi = (phi1-phi2)*np.pi/180\n",
    "dlam = (lam1-lam2)*np.pi/180\n",
    "phim = (phi1+phi2)*np.pi/2/180\n",
    "\n",
    "print(\"The most eastern and western points are at latitudes {} and {}, respectively.\".format(east, west))\n",
    "\n",
    "# Now calculate the distance between these points\n",
    "l_pico = 6371*np.sqrt((dphi)**2 + (np.cos(phim)*dlam)**2)\n",
    "print(\"The approximate length of PICO street is {} km.\".format(l_pico))\n",
    "\n",
    "# Calculate the average number of arrests \n",
    "print(\"Their were approximately {} arrests per km on Pico Boulevard in 2018.\".format(l_pico/len(z_com[z_com==True])))"
   ]
  },
  {
   "cell_type": "code",
   "execution_count": 251,
   "metadata": {},
   "outputs": [
    {
     "name": "stdout",
     "output_type": "stream",
     "text": [
      "The average of the top 5 reported offenses is 3.515076379865202.\n"
     ]
    }
   ],
   "source": [
    "\"\"\"\n",
    "    Some types of arrest incidents in certain areas occur at a highly disproportionate \n",
    "    rate compared to their frequency city-wide. For example, let's say that the rate of \n",
    "    larceny arrests (charge group code 6) is 1% in Devonshire (area ID 17). \n",
    "    \n",
    "    This rate may appear low but what if larceny arrests constitute 0.1 % city-wide? \n",
    "    The ratio between these two probabilities is 10 and we can say that larceny occurs \n",
    "    unusually often in Devonshire (Note, these numbers were made up for illustration purposes). \n",
    "    \n",
    "    Calculate this ratio for all charge group code and area ID pairs. \n",
    "    You can view this ratio as the ratio of the conditional probability \n",
    "    of an arrest incident of a charge group code given that it occurred in an area ID to the \n",
    "    unconditional probability of the arrest incident of a charge group. \n",
    "    \n",
    "    Report the average of the top 5 of the calculated ratio.\n",
    "    \n",
    "    \n",
    "    Consider all records prior to January 1, 2019.\n",
    "    Some arrest incidents don't have a charge group code. \n",
    "    These records should not be considered in your analysis.\n",
    "    Arrest incidents for charge group code 99 should not be considered in your analysis.\n",
    "\n",
    "\"\"\"\n",
    "\n",
    "# Clean the data, removing 2019 data, missing charge code\n",
    "clean_data = data[(data['Arrest Year'] != 2019) &\\\n",
    "                  (data['Charge Group Code'] != 99.0) &\\\n",
    "                  (data['Charge Group Code'].notnull())]\n",
    "\n",
    "# Get a list of the area IDs, charge codes\n",
    "areaIDs = clean_data['Area ID'].unique()\n",
    "chargeCodes = clean_data['Charge Group Code'].unique()\n",
    "\n",
    "propRatio = np.zeros((len(areaIDs), len(chargeCodes)))\n",
    "totArrestsGlo = len(clean_data) # Total number of arrests city-wide\n",
    "\n",
    "for iID, vID in enumerate(areaIDs):\n",
    "    \n",
    "    # Total number of arrests in a given area\n",
    "    totArrestsLoc = len(clean_data[clean_data['Area ID'] == vID])\n",
    "    \n",
    "    for iCC, vCC in enumerate(chargeCodes):\n",
    "        \n",
    "        # Total number of arrests of a particular type in the area\n",
    "        nArrestsLocCC = len(clean_data[(clean_data['Area ID'] == vID) & \\\n",
    "                                       (clean_data['Charge Group Code'] == vCC)])\n",
    "        \n",
    "        # Total number of arrests of a particular type city-wide\n",
    "        nArrestsGloCC = len(clean_data[clean_data['Charge Group Code'] == vCC])\n",
    "        \n",
    "        \n",
    "        propRatio[iID, iCC] = nArrestsLocCC*totArrestsGlo/totArrestsLoc/nArrestsGloCC\n",
    "        \n",
    "# Get the most highest probability offenses for each charge code        \n",
    "freq_crimes = np.amax(propRatio, axis=0)\n",
    "\n",
    "# Compute the average of the top 5 offenses\n",
    "avgTop5 = np.mean(sorted(freq_crimes, reverse=True)[:5])\n",
    "print(\"The average of the top 5 reported offenses is {}.\".format(avgTop5))\n"
   ]
  }
 ],
 "metadata": {
  "kernelspec": {
   "display_name": "Python 3",
   "language": "python",
   "name": "python3"
  },
  "language_info": {
   "codemirror_mode": {
    "name": "ipython",
    "version": 3
   },
   "file_extension": ".py",
   "mimetype": "text/x-python",
   "name": "python",
   "nbconvert_exporter": "python",
   "pygments_lexer": "ipython3",
   "version": "3.7.4"
  }
 },
 "nbformat": 4,
 "nbformat_minor": 2
}
