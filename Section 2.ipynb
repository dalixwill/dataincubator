{
 "cells": [
  {
   "cell_type": "code",
   "execution_count": 47,
   "metadata": {},
   "outputs": [
    {
     "name": "stdout",
     "output_type": "stream",
     "text": [
      "[array([0, 0]), array([0, 1]), array([0, 0])]\n",
      "[array([0, 0]), array([0, 1]), array([0, 2])]\n",
      "[array([0, 0]), array([0, 1]), array([1, 1])]\n",
      "[array([0, 0]), array([1, 0]), array([0, 0])]\n",
      "[array([0, 0]), array([1, 0]), array([1, 1])]\n",
      "[array([0, 0]), array([1, 0]), array([2, 0])]\n",
      "When the dimension d = 2,\n",
      "the number of grid lines n = 3,\n",
      "the number of allowed moves m = 2,\n",
      "and the starting position is [0 0]\n",
      "There are 6 possible moves.\n"
     ]
    }
   ],
   "source": [
    "\"\"\"\n",
    "Consider a grid in d-dimensional space. \n",
    "There are n grid lines in each dimension, spaced one unit apart. \n",
    "We will consider a walk of m steps from grid intersection to grid intersection. \n",
    "Each step will be a single unit movement in any one of the dimensions, such that it stays on the grid. \n",
    "We wish to look at the number of possible paths from a particular starting location on this grid.\n",
    "\n",
    "\"\"\"\n",
    "import numpy as np\n",
    "from itertools import product\n",
    "\n",
    "n = 3 # Number of grid lines\n",
    "d = 2 # Number of dimensions\n",
    "m = 2 # Number of moves\n",
    "\n",
    "def traverse_nodes(neighbor_list, start, length, paths, path=[], showPath=False):\n",
    "    path = path + [start]\n",
    "    \n",
    "    if len(path) == length+1:\n",
    "        if showPath:\n",
    "            print(path)\n",
    "        paths.append(path)\n",
    "    else:\n",
    "        for node in neighbor_list[str(start)]:\n",
    "            traverse_nodes(neighbor_list, node, length, paths, path, showPath)\n",
    "\n",
    "def compute_paths(nDims, nGridLines, nMoves, start, showPath=False):\n",
    "        \n",
    "    # Generate node list \n",
    "    nodes = [node for node in product(range(0, nGridLines), repeat=nDims)]\n",
    "    nodes = np.asarray(nodes)\n",
    "    \n",
    "    # Calculate the distances to each nearest neighbor, dnn\n",
    "    dnn = []\n",
    "    for inode, anode in enumerate(nodes):\n",
    "        dnn.append(np.linalg.norm(np.asarray(anode) - np.asarray(nodes), axis=1))\n",
    "    dnn = np.asarray(dnn)\n",
    "    \n",
    "    # Create a boolean mask where true values are valid neighbors\n",
    "    isnn = np.zeros(dnn.shape, dtype=bool)\n",
    "    isnn[dnn==1] = True\n",
    "    \n",
    "    # Create nearest neighbor dictionary where each key-value pair is a node and its respective neighbors\n",
    "    nn = {}\n",
    "    for irow, row in enumerate(isnn):\n",
    "        nn[str(nodes[irow])] = nodes[row]\n",
    "\n",
    "    paths = []\n",
    "    traverse_nodes(nn, start, nMoves, paths, path=[], showPath=showPath)\n",
    "    \n",
    "    print(\"When the dimension d = {},\".format(nDims))\n",
    "    print(\"the number of grid lines n = {},\".format(nGridLines))\n",
    "    print(\"the number of allowed moves m = {},\".format(nMoves))\n",
    "    outtext = \"and the starting position is \" + str(start)\n",
    "    print(outtext)\n",
    "    print(\"There are {} possible moves.\".format(len(paths)))\n",
    "    \n",
    "    return paths\n",
    "    \n",
    "    \n",
    "## Generate list of nodes \n",
    "#nodes = [node for node in product(range(0, n), repeat=d)]\n",
    "#nodes = np.asarray(nodes)\n",
    "#print(\"There are {} nodes with coordinates: \\n{}.\".format(len(nodes), nodes))\n",
    "\n",
    "# Calculate the distances to each nearest neighbor, dnn\n",
    "#dnn = []\n",
    "#for inode, anode in enumerate(nodes):\n",
    "#    dnn.append(np.linalg.norm(np.asarray(anode) - np.asarray(nodes), axis=1))\n",
    "#dnn = np.asarray(dnn)\n",
    "\n",
    "# Create a boolean mask where true values are valid neighbors\n",
    "#isnn = np.zeros(dnn.shape, dtype=bool)\n",
    "#isnn[dnn==1] = True\n",
    "\n",
    "# Create nearest neighbor dictionary where each key-value pair is a node and its respective neighbors\n",
    "#nn = {}\n",
    "#for irow, row in enumerate(isnn):\n",
    "#    nn[str(nodes[irow])] = nodes[row]\n",
    "\n",
    "\n",
    "            \n",
    "#paths = []\n",
    "#nn['[0 0]']\n",
    "#nn[str(nodes[0])]\n",
    "\n",
    "#traverse_nodes(nn, nodes[0], m, paths)\n",
    "#print(\"There are {} paths with nodes {}\".format(len(paths), paths))\n",
    "\n",
    "start=np.array([0, 0])\n",
    "paths1 = compute_paths(d, n, m, start, showPath=True)\n",
    "\n",
    "#print(start)"
   ]
  },
  {
   "cell_type": "code",
   "execution_count": 20,
   "metadata": {},
   "outputs": [
    {
     "ename": "KeyboardInterrupt",
     "evalue": "",
     "output_type": "error",
     "traceback": [
      "\u001b[0;31m---------------------------------------------------------------------------\u001b[0m",
      "\u001b[0;31mKeyboardInterrupt\u001b[0m                         Traceback (most recent call last)",
      "\u001b[0;32m<ipython-input-20-0b686f17b129>\u001b[0m in \u001b[0;36m<module>\u001b[0;34m\u001b[0m\n\u001b[1;32m      8\u001b[0m \u001b[0mstart2\u001b[0m \u001b[0;34m=\u001b[0m \u001b[0mnp\u001b[0m\u001b[0;34m.\u001b[0m\u001b[0marray\u001b[0m\u001b[0;34m(\u001b[0m\u001b[0;34m[\u001b[0m\u001b[0;36m0\u001b[0m\u001b[0;34m,\u001b[0m \u001b[0;36m0\u001b[0m\u001b[0;34m,\u001b[0m \u001b[0;36m0\u001b[0m\u001b[0;34m,\u001b[0m \u001b[0;36m0\u001b[0m\u001b[0;34m]\u001b[0m\u001b[0;34m)\u001b[0m\u001b[0;34m\u001b[0m\u001b[0;34m\u001b[0m\u001b[0m\n\u001b[1;32m      9\u001b[0m \u001b[0;34m\u001b[0m\u001b[0m\n\u001b[0;32m---> 10\u001b[0;31m \u001b[0mpaths2\u001b[0m \u001b[0;34m=\u001b[0m \u001b[0mcompute_paths\u001b[0m\u001b[0;34m(\u001b[0m\u001b[0md2\u001b[0m\u001b[0;34m,\u001b[0m \u001b[0mn2\u001b[0m\u001b[0;34m,\u001b[0m \u001b[0mm2\u001b[0m\u001b[0;34m,\u001b[0m \u001b[0mstart2\u001b[0m\u001b[0;34m,\u001b[0m \u001b[0mshowPath\u001b[0m\u001b[0;34m=\u001b[0m\u001b[0;32mFalse\u001b[0m\u001b[0;34m)\u001b[0m\u001b[0;34m\u001b[0m\u001b[0;34m\u001b[0m\u001b[0m\n\u001b[0m",
      "\u001b[0;32m<ipython-input-18-b6cd3dd331cf>\u001b[0m in \u001b[0;36mcompute_paths\u001b[0;34m(nDims, nGridLines, nMoves, start, showPath)\u001b[0m\n\u001b[1;32m     47\u001b[0m \u001b[0;34m\u001b[0m\u001b[0m\n\u001b[1;32m     48\u001b[0m     \u001b[0mpaths\u001b[0m \u001b[0;34m=\u001b[0m \u001b[0;34m[\u001b[0m\u001b[0;34m]\u001b[0m\u001b[0;34m\u001b[0m\u001b[0;34m\u001b[0m\u001b[0m\n\u001b[0;32m---> 49\u001b[0;31m     \u001b[0mtraverse_nodes\u001b[0m\u001b[0;34m(\u001b[0m\u001b[0mnn\u001b[0m\u001b[0;34m,\u001b[0m \u001b[0mstart\u001b[0m\u001b[0;34m,\u001b[0m \u001b[0mnMoves\u001b[0m\u001b[0;34m,\u001b[0m \u001b[0mpaths\u001b[0m\u001b[0;34m,\u001b[0m \u001b[0mpath\u001b[0m\u001b[0;34m=\u001b[0m\u001b[0;34m[\u001b[0m\u001b[0;34m]\u001b[0m\u001b[0;34m,\u001b[0m \u001b[0mshowPath\u001b[0m\u001b[0;34m=\u001b[0m\u001b[0mshowPath\u001b[0m\u001b[0;34m)\u001b[0m\u001b[0;34m\u001b[0m\u001b[0;34m\u001b[0m\u001b[0m\n\u001b[0m\u001b[1;32m     50\u001b[0m \u001b[0;34m\u001b[0m\u001b[0m\n\u001b[1;32m     51\u001b[0m     \u001b[0mprint\u001b[0m\u001b[0;34m(\u001b[0m\u001b[0;34m\"When the dimension d = {},\"\u001b[0m\u001b[0;34m.\u001b[0m\u001b[0mformat\u001b[0m\u001b[0;34m(\u001b[0m\u001b[0mnDims\u001b[0m\u001b[0;34m)\u001b[0m\u001b[0;34m)\u001b[0m\u001b[0;34m\u001b[0m\u001b[0;34m\u001b[0m\u001b[0m\n",
      "\u001b[0;32m<ipython-input-18-b6cd3dd331cf>\u001b[0m in \u001b[0;36mtraverse_nodes\u001b[0;34m(neighbor_list, start, length, paths, path, showPath)\u001b[0m\n\u001b[1;32m     23\u001b[0m     \u001b[0;32melse\u001b[0m\u001b[0;34m:\u001b[0m\u001b[0;34m\u001b[0m\u001b[0;34m\u001b[0m\u001b[0m\n\u001b[1;32m     24\u001b[0m         \u001b[0;32mfor\u001b[0m \u001b[0mnode\u001b[0m \u001b[0;32min\u001b[0m \u001b[0mneighbor_list\u001b[0m\u001b[0;34m[\u001b[0m\u001b[0mstr\u001b[0m\u001b[0;34m(\u001b[0m\u001b[0mstart\u001b[0m\u001b[0;34m)\u001b[0m\u001b[0;34m]\u001b[0m\u001b[0;34m:\u001b[0m\u001b[0;34m\u001b[0m\u001b[0;34m\u001b[0m\u001b[0m\n\u001b[0;32m---> 25\u001b[0;31m             \u001b[0mtraverse_nodes\u001b[0m\u001b[0;34m(\u001b[0m\u001b[0mneighbor_list\u001b[0m\u001b[0;34m,\u001b[0m \u001b[0mnode\u001b[0m\u001b[0;34m,\u001b[0m \u001b[0mlength\u001b[0m\u001b[0;34m,\u001b[0m \u001b[0mpaths\u001b[0m\u001b[0;34m,\u001b[0m \u001b[0mpath\u001b[0m\u001b[0;34m,\u001b[0m \u001b[0mshowPath\u001b[0m\u001b[0;34m)\u001b[0m\u001b[0;34m\u001b[0m\u001b[0;34m\u001b[0m\u001b[0m\n\u001b[0m\u001b[1;32m     26\u001b[0m \u001b[0;34m\u001b[0m\u001b[0m\n\u001b[1;32m     27\u001b[0m \u001b[0;32mdef\u001b[0m \u001b[0mcompute_paths\u001b[0m\u001b[0;34m(\u001b[0m\u001b[0mnDims\u001b[0m\u001b[0;34m,\u001b[0m \u001b[0mnGridLines\u001b[0m\u001b[0;34m,\u001b[0m \u001b[0mnMoves\u001b[0m\u001b[0;34m,\u001b[0m \u001b[0mstart\u001b[0m\u001b[0;34m,\u001b[0m \u001b[0mshowPath\u001b[0m\u001b[0;34m=\u001b[0m\u001b[0;32mFalse\u001b[0m\u001b[0;34m)\u001b[0m\u001b[0;34m:\u001b[0m\u001b[0;34m\u001b[0m\u001b[0;34m\u001b[0m\u001b[0m\n",
      "\u001b[0;32m<ipython-input-18-b6cd3dd331cf>\u001b[0m in \u001b[0;36mtraverse_nodes\u001b[0;34m(neighbor_list, start, length, paths, path, showPath)\u001b[0m\n\u001b[1;32m     23\u001b[0m     \u001b[0;32melse\u001b[0m\u001b[0;34m:\u001b[0m\u001b[0;34m\u001b[0m\u001b[0;34m\u001b[0m\u001b[0m\n\u001b[1;32m     24\u001b[0m         \u001b[0;32mfor\u001b[0m \u001b[0mnode\u001b[0m \u001b[0;32min\u001b[0m \u001b[0mneighbor_list\u001b[0m\u001b[0;34m[\u001b[0m\u001b[0mstr\u001b[0m\u001b[0;34m(\u001b[0m\u001b[0mstart\u001b[0m\u001b[0;34m)\u001b[0m\u001b[0;34m]\u001b[0m\u001b[0;34m:\u001b[0m\u001b[0;34m\u001b[0m\u001b[0;34m\u001b[0m\u001b[0m\n\u001b[0;32m---> 25\u001b[0;31m             \u001b[0mtraverse_nodes\u001b[0m\u001b[0;34m(\u001b[0m\u001b[0mneighbor_list\u001b[0m\u001b[0;34m,\u001b[0m \u001b[0mnode\u001b[0m\u001b[0;34m,\u001b[0m \u001b[0mlength\u001b[0m\u001b[0;34m,\u001b[0m \u001b[0mpaths\u001b[0m\u001b[0;34m,\u001b[0m \u001b[0mpath\u001b[0m\u001b[0;34m,\u001b[0m \u001b[0mshowPath\u001b[0m\u001b[0;34m)\u001b[0m\u001b[0;34m\u001b[0m\u001b[0;34m\u001b[0m\u001b[0m\n\u001b[0m\u001b[1;32m     26\u001b[0m \u001b[0;34m\u001b[0m\u001b[0m\n\u001b[1;32m     27\u001b[0m \u001b[0;32mdef\u001b[0m \u001b[0mcompute_paths\u001b[0m\u001b[0;34m(\u001b[0m\u001b[0mnDims\u001b[0m\u001b[0;34m,\u001b[0m \u001b[0mnGridLines\u001b[0m\u001b[0;34m,\u001b[0m \u001b[0mnMoves\u001b[0m\u001b[0;34m,\u001b[0m \u001b[0mstart\u001b[0m\u001b[0;34m,\u001b[0m \u001b[0mshowPath\u001b[0m\u001b[0;34m=\u001b[0m\u001b[0;32mFalse\u001b[0m\u001b[0;34m)\u001b[0m\u001b[0;34m:\u001b[0m\u001b[0;34m\u001b[0m\u001b[0;34m\u001b[0m\u001b[0m\n",
      "\u001b[0;32m<ipython-input-18-b6cd3dd331cf>\u001b[0m in \u001b[0;36mtraverse_nodes\u001b[0;34m(neighbor_list, start, length, paths, path, showPath)\u001b[0m\n\u001b[1;32m     23\u001b[0m     \u001b[0;32melse\u001b[0m\u001b[0;34m:\u001b[0m\u001b[0;34m\u001b[0m\u001b[0;34m\u001b[0m\u001b[0m\n\u001b[1;32m     24\u001b[0m         \u001b[0;32mfor\u001b[0m \u001b[0mnode\u001b[0m \u001b[0;32min\u001b[0m \u001b[0mneighbor_list\u001b[0m\u001b[0;34m[\u001b[0m\u001b[0mstr\u001b[0m\u001b[0;34m(\u001b[0m\u001b[0mstart\u001b[0m\u001b[0;34m)\u001b[0m\u001b[0;34m]\u001b[0m\u001b[0;34m:\u001b[0m\u001b[0;34m\u001b[0m\u001b[0;34m\u001b[0m\u001b[0m\n\u001b[0;32m---> 25\u001b[0;31m             \u001b[0mtraverse_nodes\u001b[0m\u001b[0;34m(\u001b[0m\u001b[0mneighbor_list\u001b[0m\u001b[0;34m,\u001b[0m \u001b[0mnode\u001b[0m\u001b[0;34m,\u001b[0m \u001b[0mlength\u001b[0m\u001b[0;34m,\u001b[0m \u001b[0mpaths\u001b[0m\u001b[0;34m,\u001b[0m \u001b[0mpath\u001b[0m\u001b[0;34m,\u001b[0m \u001b[0mshowPath\u001b[0m\u001b[0;34m)\u001b[0m\u001b[0;34m\u001b[0m\u001b[0;34m\u001b[0m\u001b[0m\n\u001b[0m\u001b[1;32m     26\u001b[0m \u001b[0;34m\u001b[0m\u001b[0m\n\u001b[1;32m     27\u001b[0m \u001b[0;32mdef\u001b[0m \u001b[0mcompute_paths\u001b[0m\u001b[0;34m(\u001b[0m\u001b[0mnDims\u001b[0m\u001b[0;34m,\u001b[0m \u001b[0mnGridLines\u001b[0m\u001b[0;34m,\u001b[0m \u001b[0mnMoves\u001b[0m\u001b[0;34m,\u001b[0m \u001b[0mstart\u001b[0m\u001b[0;34m,\u001b[0m \u001b[0mshowPath\u001b[0m\u001b[0;34m=\u001b[0m\u001b[0;32mFalse\u001b[0m\u001b[0;34m)\u001b[0m\u001b[0;34m:\u001b[0m\u001b[0;34m\u001b[0m\u001b[0;34m\u001b[0m\u001b[0m\n",
      "\u001b[0;32m<ipython-input-18-b6cd3dd331cf>\u001b[0m in \u001b[0;36mtraverse_nodes\u001b[0;34m(neighbor_list, start, length, paths, path, showPath)\u001b[0m\n\u001b[1;32m     23\u001b[0m     \u001b[0;32melse\u001b[0m\u001b[0;34m:\u001b[0m\u001b[0;34m\u001b[0m\u001b[0;34m\u001b[0m\u001b[0m\n\u001b[1;32m     24\u001b[0m         \u001b[0;32mfor\u001b[0m \u001b[0mnode\u001b[0m \u001b[0;32min\u001b[0m \u001b[0mneighbor_list\u001b[0m\u001b[0;34m[\u001b[0m\u001b[0mstr\u001b[0m\u001b[0;34m(\u001b[0m\u001b[0mstart\u001b[0m\u001b[0;34m)\u001b[0m\u001b[0;34m]\u001b[0m\u001b[0;34m:\u001b[0m\u001b[0;34m\u001b[0m\u001b[0;34m\u001b[0m\u001b[0m\n\u001b[0;32m---> 25\u001b[0;31m             \u001b[0mtraverse_nodes\u001b[0m\u001b[0;34m(\u001b[0m\u001b[0mneighbor_list\u001b[0m\u001b[0;34m,\u001b[0m \u001b[0mnode\u001b[0m\u001b[0;34m,\u001b[0m \u001b[0mlength\u001b[0m\u001b[0;34m,\u001b[0m \u001b[0mpaths\u001b[0m\u001b[0;34m,\u001b[0m \u001b[0mpath\u001b[0m\u001b[0;34m,\u001b[0m \u001b[0mshowPath\u001b[0m\u001b[0;34m)\u001b[0m\u001b[0;34m\u001b[0m\u001b[0;34m\u001b[0m\u001b[0m\n\u001b[0m\u001b[1;32m     26\u001b[0m \u001b[0;34m\u001b[0m\u001b[0m\n\u001b[1;32m     27\u001b[0m \u001b[0;32mdef\u001b[0m \u001b[0mcompute_paths\u001b[0m\u001b[0;34m(\u001b[0m\u001b[0mnDims\u001b[0m\u001b[0;34m,\u001b[0m \u001b[0mnGridLines\u001b[0m\u001b[0;34m,\u001b[0m \u001b[0mnMoves\u001b[0m\u001b[0;34m,\u001b[0m \u001b[0mstart\u001b[0m\u001b[0;34m,\u001b[0m \u001b[0mshowPath\u001b[0m\u001b[0;34m=\u001b[0m\u001b[0;32mFalse\u001b[0m\u001b[0;34m)\u001b[0m\u001b[0;34m:\u001b[0m\u001b[0;34m\u001b[0m\u001b[0;34m\u001b[0m\u001b[0m\n",
      "\u001b[0;32m<ipython-input-18-b6cd3dd331cf>\u001b[0m in \u001b[0;36mtraverse_nodes\u001b[0;34m(neighbor_list, start, length, paths, path, showPath)\u001b[0m\n\u001b[1;32m     23\u001b[0m     \u001b[0;32melse\u001b[0m\u001b[0;34m:\u001b[0m\u001b[0;34m\u001b[0m\u001b[0;34m\u001b[0m\u001b[0m\n\u001b[1;32m     24\u001b[0m         \u001b[0;32mfor\u001b[0m \u001b[0mnode\u001b[0m \u001b[0;32min\u001b[0m \u001b[0mneighbor_list\u001b[0m\u001b[0;34m[\u001b[0m\u001b[0mstr\u001b[0m\u001b[0;34m(\u001b[0m\u001b[0mstart\u001b[0m\u001b[0;34m)\u001b[0m\u001b[0;34m]\u001b[0m\u001b[0;34m:\u001b[0m\u001b[0;34m\u001b[0m\u001b[0;34m\u001b[0m\u001b[0m\n\u001b[0;32m---> 25\u001b[0;31m             \u001b[0mtraverse_nodes\u001b[0m\u001b[0;34m(\u001b[0m\u001b[0mneighbor_list\u001b[0m\u001b[0;34m,\u001b[0m \u001b[0mnode\u001b[0m\u001b[0;34m,\u001b[0m \u001b[0mlength\u001b[0m\u001b[0;34m,\u001b[0m \u001b[0mpaths\u001b[0m\u001b[0;34m,\u001b[0m \u001b[0mpath\u001b[0m\u001b[0;34m,\u001b[0m \u001b[0mshowPath\u001b[0m\u001b[0;34m)\u001b[0m\u001b[0;34m\u001b[0m\u001b[0;34m\u001b[0m\u001b[0m\n\u001b[0m\u001b[1;32m     26\u001b[0m \u001b[0;34m\u001b[0m\u001b[0m\n\u001b[1;32m     27\u001b[0m \u001b[0;32mdef\u001b[0m \u001b[0mcompute_paths\u001b[0m\u001b[0;34m(\u001b[0m\u001b[0mnDims\u001b[0m\u001b[0;34m,\u001b[0m \u001b[0mnGridLines\u001b[0m\u001b[0;34m,\u001b[0m \u001b[0mnMoves\u001b[0m\u001b[0;34m,\u001b[0m \u001b[0mstart\u001b[0m\u001b[0;34m,\u001b[0m \u001b[0mshowPath\u001b[0m\u001b[0;34m=\u001b[0m\u001b[0;32mFalse\u001b[0m\u001b[0;34m)\u001b[0m\u001b[0;34m:\u001b[0m\u001b[0;34m\u001b[0m\u001b[0;34m\u001b[0m\u001b[0m\n",
      "\u001b[0;32m<ipython-input-18-b6cd3dd331cf>\u001b[0m in \u001b[0;36mtraverse_nodes\u001b[0;34m(neighbor_list, start, length, paths, path, showPath)\u001b[0m\n\u001b[1;32m     23\u001b[0m     \u001b[0;32melse\u001b[0m\u001b[0;34m:\u001b[0m\u001b[0;34m\u001b[0m\u001b[0;34m\u001b[0m\u001b[0m\n\u001b[1;32m     24\u001b[0m         \u001b[0;32mfor\u001b[0m \u001b[0mnode\u001b[0m \u001b[0;32min\u001b[0m \u001b[0mneighbor_list\u001b[0m\u001b[0;34m[\u001b[0m\u001b[0mstr\u001b[0m\u001b[0;34m(\u001b[0m\u001b[0mstart\u001b[0m\u001b[0;34m)\u001b[0m\u001b[0;34m]\u001b[0m\u001b[0;34m:\u001b[0m\u001b[0;34m\u001b[0m\u001b[0;34m\u001b[0m\u001b[0m\n\u001b[0;32m---> 25\u001b[0;31m             \u001b[0mtraverse_nodes\u001b[0m\u001b[0;34m(\u001b[0m\u001b[0mneighbor_list\u001b[0m\u001b[0;34m,\u001b[0m \u001b[0mnode\u001b[0m\u001b[0;34m,\u001b[0m \u001b[0mlength\u001b[0m\u001b[0;34m,\u001b[0m \u001b[0mpaths\u001b[0m\u001b[0;34m,\u001b[0m \u001b[0mpath\u001b[0m\u001b[0;34m,\u001b[0m \u001b[0mshowPath\u001b[0m\u001b[0;34m)\u001b[0m\u001b[0;34m\u001b[0m\u001b[0;34m\u001b[0m\u001b[0m\n\u001b[0m\u001b[1;32m     26\u001b[0m \u001b[0;34m\u001b[0m\u001b[0m\n\u001b[1;32m     27\u001b[0m \u001b[0;32mdef\u001b[0m \u001b[0mcompute_paths\u001b[0m\u001b[0;34m(\u001b[0m\u001b[0mnDims\u001b[0m\u001b[0;34m,\u001b[0m \u001b[0mnGridLines\u001b[0m\u001b[0;34m,\u001b[0m \u001b[0mnMoves\u001b[0m\u001b[0;34m,\u001b[0m \u001b[0mstart\u001b[0m\u001b[0;34m,\u001b[0m \u001b[0mshowPath\u001b[0m\u001b[0;34m=\u001b[0m\u001b[0;32mFalse\u001b[0m\u001b[0;34m)\u001b[0m\u001b[0;34m:\u001b[0m\u001b[0;34m\u001b[0m\u001b[0;34m\u001b[0m\u001b[0m\n",
      "\u001b[0;32m<ipython-input-18-b6cd3dd331cf>\u001b[0m in \u001b[0;36mtraverse_nodes\u001b[0;34m(neighbor_list, start, length, paths, path, showPath)\u001b[0m\n\u001b[1;32m     23\u001b[0m     \u001b[0;32melse\u001b[0m\u001b[0;34m:\u001b[0m\u001b[0;34m\u001b[0m\u001b[0;34m\u001b[0m\u001b[0m\n\u001b[1;32m     24\u001b[0m         \u001b[0;32mfor\u001b[0m \u001b[0mnode\u001b[0m \u001b[0;32min\u001b[0m \u001b[0mneighbor_list\u001b[0m\u001b[0;34m[\u001b[0m\u001b[0mstr\u001b[0m\u001b[0;34m(\u001b[0m\u001b[0mstart\u001b[0m\u001b[0;34m)\u001b[0m\u001b[0;34m]\u001b[0m\u001b[0;34m:\u001b[0m\u001b[0;34m\u001b[0m\u001b[0;34m\u001b[0m\u001b[0m\n\u001b[0;32m---> 25\u001b[0;31m             \u001b[0mtraverse_nodes\u001b[0m\u001b[0;34m(\u001b[0m\u001b[0mneighbor_list\u001b[0m\u001b[0;34m,\u001b[0m \u001b[0mnode\u001b[0m\u001b[0;34m,\u001b[0m \u001b[0mlength\u001b[0m\u001b[0;34m,\u001b[0m \u001b[0mpaths\u001b[0m\u001b[0;34m,\u001b[0m \u001b[0mpath\u001b[0m\u001b[0;34m,\u001b[0m \u001b[0mshowPath\u001b[0m\u001b[0;34m)\u001b[0m\u001b[0;34m\u001b[0m\u001b[0;34m\u001b[0m\u001b[0m\n\u001b[0m\u001b[1;32m     26\u001b[0m \u001b[0;34m\u001b[0m\u001b[0m\n\u001b[1;32m     27\u001b[0m \u001b[0;32mdef\u001b[0m \u001b[0mcompute_paths\u001b[0m\u001b[0;34m(\u001b[0m\u001b[0mnDims\u001b[0m\u001b[0;34m,\u001b[0m \u001b[0mnGridLines\u001b[0m\u001b[0;34m,\u001b[0m \u001b[0mnMoves\u001b[0m\u001b[0;34m,\u001b[0m \u001b[0mstart\u001b[0m\u001b[0;34m,\u001b[0m \u001b[0mshowPath\u001b[0m\u001b[0;34m=\u001b[0m\u001b[0;32mFalse\u001b[0m\u001b[0;34m)\u001b[0m\u001b[0;34m:\u001b[0m\u001b[0;34m\u001b[0m\u001b[0;34m\u001b[0m\u001b[0m\n",
      "\u001b[0;32m<ipython-input-18-b6cd3dd331cf>\u001b[0m in \u001b[0;36mtraverse_nodes\u001b[0;34m(neighbor_list, start, length, paths, path, showPath)\u001b[0m\n\u001b[1;32m     23\u001b[0m     \u001b[0;32melse\u001b[0m\u001b[0;34m:\u001b[0m\u001b[0;34m\u001b[0m\u001b[0;34m\u001b[0m\u001b[0m\n\u001b[1;32m     24\u001b[0m         \u001b[0;32mfor\u001b[0m \u001b[0mnode\u001b[0m \u001b[0;32min\u001b[0m \u001b[0mneighbor_list\u001b[0m\u001b[0;34m[\u001b[0m\u001b[0mstr\u001b[0m\u001b[0;34m(\u001b[0m\u001b[0mstart\u001b[0m\u001b[0;34m)\u001b[0m\u001b[0;34m]\u001b[0m\u001b[0;34m:\u001b[0m\u001b[0;34m\u001b[0m\u001b[0;34m\u001b[0m\u001b[0m\n\u001b[0;32m---> 25\u001b[0;31m             \u001b[0mtraverse_nodes\u001b[0m\u001b[0;34m(\u001b[0m\u001b[0mneighbor_list\u001b[0m\u001b[0;34m,\u001b[0m \u001b[0mnode\u001b[0m\u001b[0;34m,\u001b[0m \u001b[0mlength\u001b[0m\u001b[0;34m,\u001b[0m \u001b[0mpaths\u001b[0m\u001b[0;34m,\u001b[0m \u001b[0mpath\u001b[0m\u001b[0;34m,\u001b[0m \u001b[0mshowPath\u001b[0m\u001b[0;34m)\u001b[0m\u001b[0;34m\u001b[0m\u001b[0;34m\u001b[0m\u001b[0m\n\u001b[0m\u001b[1;32m     26\u001b[0m \u001b[0;34m\u001b[0m\u001b[0m\n\u001b[1;32m     27\u001b[0m \u001b[0;32mdef\u001b[0m \u001b[0mcompute_paths\u001b[0m\u001b[0;34m(\u001b[0m\u001b[0mnDims\u001b[0m\u001b[0;34m,\u001b[0m \u001b[0mnGridLines\u001b[0m\u001b[0;34m,\u001b[0m \u001b[0mnMoves\u001b[0m\u001b[0;34m,\u001b[0m \u001b[0mstart\u001b[0m\u001b[0;34m,\u001b[0m \u001b[0mshowPath\u001b[0m\u001b[0;34m=\u001b[0m\u001b[0;32mFalse\u001b[0m\u001b[0;34m)\u001b[0m\u001b[0;34m:\u001b[0m\u001b[0;34m\u001b[0m\u001b[0;34m\u001b[0m\u001b[0m\n",
      "\u001b[0;32m<ipython-input-18-b6cd3dd331cf>\u001b[0m in \u001b[0;36mtraverse_nodes\u001b[0;34m(neighbor_list, start, length, paths, path, showPath)\u001b[0m\n\u001b[1;32m     23\u001b[0m     \u001b[0;32melse\u001b[0m\u001b[0;34m:\u001b[0m\u001b[0;34m\u001b[0m\u001b[0;34m\u001b[0m\u001b[0m\n\u001b[1;32m     24\u001b[0m         \u001b[0;32mfor\u001b[0m \u001b[0mnode\u001b[0m \u001b[0;32min\u001b[0m \u001b[0mneighbor_list\u001b[0m\u001b[0;34m[\u001b[0m\u001b[0mstr\u001b[0m\u001b[0;34m(\u001b[0m\u001b[0mstart\u001b[0m\u001b[0;34m)\u001b[0m\u001b[0;34m]\u001b[0m\u001b[0;34m:\u001b[0m\u001b[0;34m\u001b[0m\u001b[0;34m\u001b[0m\u001b[0m\n\u001b[0;32m---> 25\u001b[0;31m             \u001b[0mtraverse_nodes\u001b[0m\u001b[0;34m(\u001b[0m\u001b[0mneighbor_list\u001b[0m\u001b[0;34m,\u001b[0m \u001b[0mnode\u001b[0m\u001b[0;34m,\u001b[0m \u001b[0mlength\u001b[0m\u001b[0;34m,\u001b[0m \u001b[0mpaths\u001b[0m\u001b[0;34m,\u001b[0m \u001b[0mpath\u001b[0m\u001b[0;34m,\u001b[0m \u001b[0mshowPath\u001b[0m\u001b[0;34m)\u001b[0m\u001b[0;34m\u001b[0m\u001b[0;34m\u001b[0m\u001b[0m\n\u001b[0m\u001b[1;32m     26\u001b[0m \u001b[0;34m\u001b[0m\u001b[0m\n\u001b[1;32m     27\u001b[0m \u001b[0;32mdef\u001b[0m \u001b[0mcompute_paths\u001b[0m\u001b[0;34m(\u001b[0m\u001b[0mnDims\u001b[0m\u001b[0;34m,\u001b[0m \u001b[0mnGridLines\u001b[0m\u001b[0;34m,\u001b[0m \u001b[0mnMoves\u001b[0m\u001b[0;34m,\u001b[0m \u001b[0mstart\u001b[0m\u001b[0;34m,\u001b[0m \u001b[0mshowPath\u001b[0m\u001b[0;34m=\u001b[0m\u001b[0;32mFalse\u001b[0m\u001b[0;34m)\u001b[0m\u001b[0;34m:\u001b[0m\u001b[0;34m\u001b[0m\u001b[0;34m\u001b[0m\u001b[0m\n",
      "\u001b[0;32m<ipython-input-18-b6cd3dd331cf>\u001b[0m in \u001b[0;36mtraverse_nodes\u001b[0;34m(neighbor_list, start, length, paths, path, showPath)\u001b[0m\n\u001b[1;32m     22\u001b[0m         \u001b[0mpaths\u001b[0m\u001b[0;34m.\u001b[0m\u001b[0mappend\u001b[0m\u001b[0;34m(\u001b[0m\u001b[0mpath\u001b[0m\u001b[0;34m)\u001b[0m\u001b[0;34m\u001b[0m\u001b[0;34m\u001b[0m\u001b[0m\n\u001b[1;32m     23\u001b[0m     \u001b[0;32melse\u001b[0m\u001b[0;34m:\u001b[0m\u001b[0;34m\u001b[0m\u001b[0;34m\u001b[0m\u001b[0m\n\u001b[0;32m---> 24\u001b[0;31m         \u001b[0;32mfor\u001b[0m \u001b[0mnode\u001b[0m \u001b[0;32min\u001b[0m \u001b[0mneighbor_list\u001b[0m\u001b[0;34m[\u001b[0m\u001b[0mstr\u001b[0m\u001b[0;34m(\u001b[0m\u001b[0mstart\u001b[0m\u001b[0;34m)\u001b[0m\u001b[0;34m]\u001b[0m\u001b[0;34m:\u001b[0m\u001b[0;34m\u001b[0m\u001b[0;34m\u001b[0m\u001b[0m\n\u001b[0m\u001b[1;32m     25\u001b[0m             \u001b[0mtraverse_nodes\u001b[0m\u001b[0;34m(\u001b[0m\u001b[0mneighbor_list\u001b[0m\u001b[0;34m,\u001b[0m \u001b[0mnode\u001b[0m\u001b[0;34m,\u001b[0m \u001b[0mlength\u001b[0m\u001b[0;34m,\u001b[0m \u001b[0mpaths\u001b[0m\u001b[0;34m,\u001b[0m \u001b[0mpath\u001b[0m\u001b[0;34m,\u001b[0m \u001b[0mshowPath\u001b[0m\u001b[0;34m)\u001b[0m\u001b[0;34m\u001b[0m\u001b[0;34m\u001b[0m\u001b[0m\n\u001b[1;32m     26\u001b[0m \u001b[0;34m\u001b[0m\u001b[0m\n",
      "\u001b[0;31mKeyboardInterrupt\u001b[0m: "
     ]
    }
   ],
   "source": [
    "\"\"\"\n",
    "    Consider the case where d=4, n=10, and m=10.\n",
    "    How many valid walks start from the corner (0, 0, 0, 0)?\n",
    "\"\"\"\n",
    "n2 = 10 # Number of grid lines\n",
    "d2 = 4 # Number of dimensions\n",
    "m2 = 10 # Number of moves\n",
    "start2 = np.array([0, 0, 0, 0])\n",
    "\n",
    "paths2 = compute_paths(d2, n2, m2, start2, showPath=False)"
   ]
  },
  {
   "cell_type": "code",
   "execution_count": null,
   "metadata": {},
   "outputs": [],
   "source": [
    "nodes[0]"
   ]
  },
  {
   "cell_type": "code",
   "execution_count": null,
   "metadata": {},
   "outputs": [],
   "source": [
    "nn"
   ]
  },
  {
   "cell_type": "code",
   "execution_count": null,
   "metadata": {},
   "outputs": [],
   "source": [
    "results = [ele for ele in product(range(0, n), repeat = d)]"
   ]
  },
  {
   "cell_type": "code",
   "execution_count": null,
   "metadata": {},
   "outputs": [],
   "source": [
    "results"
   ]
  },
  {
   "cell_type": "code",
   "execution_count": null,
   "metadata": {},
   "outputs": [],
   "source": [
    "results[0]"
   ]
  },
  {
   "cell_type": "code",
   "execution_count": null,
   "metadata": {},
   "outputs": [],
   "source": [
    "results[8]"
   ]
  },
  {
   "cell_type": "code",
   "execution_count": null,
   "metadata": {},
   "outputs": [],
   "source": [
    "a = product(range(0, n), repeat = 2)"
   ]
  },
  {
   "cell_type": "code",
   "execution_count": null,
   "metadata": {},
   "outputs": [],
   "source": [
    "a"
   ]
  },
  {
   "cell_type": "code",
   "execution_count": null,
   "metadata": {},
   "outputs": [],
   "source": [
    "for element in product(range(0, n), repeat = d):\n",
    "    print(element)"
   ]
  },
  {
   "cell_type": "code",
   "execution_count": 41,
   "metadata": {},
   "outputs": [
    {
     "name": "stderr",
     "output_type": "stream",
     "text": [
      "/Users/dalixwill/opt/anaconda3/lib/python3.7/site-packages/ipykernel_launcher.py:4: RuntimeWarning: overflow encountered in exp\n",
      "  after removing the cwd from sys.path.\n"
     ]
    },
    {
     "name": "stdout",
     "output_type": "stream",
     "text": [
      "3514.619471757469\n",
      "[    18    109    665   4043  24570 149307 907306]\n"
     ]
    },
    {
     "data": {
      "image/png": "[encoded data removed]",
      "text/plain": [
       "<Figure size 432x288 with 1 Axes>"
      ]
     },
     "metadata": {
      "needs_background": "light"
     },
     "output_type": "display_data"
    },
    {
     "data": {
      "image/png": "[encoded data removed]",
      "text/plain": [
       "<Figure size 432x288 with 1 Axes>"
      ]
     },
     "metadata": {
      "needs_background": "light"
     },
     "output_type": "display_data"
    }
   ],
   "source": [
    "from scipy.optimize import curve_fit\n",
    "\n",
    "def my_fun(x, A, B):\n",
    "    return A*np.exp(B*x)\n",
    "\n",
    "\n",
    "m = np.array([2, 3, 4, 5, 6, 7, 8])\n",
    "moves = np.array([20, 108, 624, 3760, 23480, 150500, 986440])\n",
    "popt, pcov = curve_fit(my_fun, m, moves)\n",
    "\n",
    "np.polyfit(m, np.log(moves), 1)\n",
    "\n",
    "import matplotlib.pyplot as plt\n",
    "%matplotlib inline\n",
    "\n",
    "plt.figure()\n",
    "plt.plot(m, moves, 'o')\n",
    "plt.plot(m, my_fun(m, *popt), 'r--')\n",
    "plt.xlabel('moves')\n",
    "plt.ylabel('paths')\n",
    "\n",
    "# Can we estimate this value for significantly larger m?\n",
    "nmoves = my_fun(5, *popt)\n",
    "print(nmoves)\n",
    "\n",
    "p = np.polyfit(m, np.log(moves), 1)\n",
    "plt.figure()\n",
    "plt.semilogy(m, moves, 'o')\n",
    "plt.plot(m, np.exp(p[0]*m + p[1]), 'g--')\n",
    "plt.xlabel('m gridlines')\n",
    "plt.ylabel('log(n moves)')\n",
    "\n",
    "# Estimates for the known values\n",
    "estimates = np.exp(p[0]*m + p[1])\n",
    "print(estimates.astype(int))"
   ]
  },
  {
   "cell_type": "code",
   "execution_count": 45,
   "metadata": {},
   "outputs": [
    {
     "name": "stdout",
     "output_type": "stream",
     "text": [
      "When m = 10, there are approximately 33504342 paths.\n"
     ]
    }
   ],
   "source": [
    "\"\"\"\n",
    "    Consider the case where d=4, n=10, and m=10.\n",
    "    How many valid walks start from the corner (0, 0, 0, 0)?\n",
    "\"\"\"\n",
    "\n",
    "m10 = 10\n",
    "m10_paths = int(np.exp(p[0]*m10 + p[1]))\n",
    "print(\"When m = {}, there are approximately {} paths.\".format(m10, m10_paths))"
   ]
  },
  {
   "cell_type": "code",
   "execution_count": 88,
   "metadata": {},
   "outputs": [
    {
     "name": "stdout",
     "output_type": "stream",
     "text": [
      "[array([2, 2]), array([1, 2]), array([0, 2])]\n",
      "[array([2, 2]), array([1, 2]), array([1, 1])]\n",
      "[array([2, 2]), array([1, 2]), array([1, 3])]\n",
      "[array([2, 2]), array([1, 2]), array([2, 2])]\n",
      "[array([2, 2]), array([2, 1]), array([1, 1])]\n",
      "[array([2, 2]), array([2, 1]), array([2, 0])]\n",
      "[array([2, 2]), array([2, 1]), array([2, 2])]\n",
      "[array([2, 2]), array([2, 1]), array([3, 1])]\n",
      "[array([2, 2]), array([2, 3]), array([1, 3])]\n",
      "[array([2, 2]), array([2, 3]), array([2, 2])]\n",
      "[array([2, 2]), array([2, 3]), array([3, 3])]\n",
      "[array([2, 2]), array([3, 2]), array([2, 2])]\n",
      "[array([2, 2]), array([3, 2]), array([3, 1])]\n",
      "[array([2, 2]), array([3, 2]), array([3, 3])]\n",
      "When the dimension d = 2,\n",
      "the number of grid lines n = 4,\n",
      "the number of allowed moves m = 2,\n",
      "and the starting position is [2 2]\n",
      "There are 14 possible moves.\n",
      "[0. 0. 0. 0.]\n",
      "When the dimension d = 2,\n",
      "the number of grid lines n = 4,\n",
      "the number of allowed moves m = 2,\n",
      "and the starting position is [0 0]\n",
      "There are 6 possible moves.\n",
      "When the dimension d = 2,\n",
      "the number of grid lines n = 4,\n",
      "the number of allowed moves m = 2,\n",
      "and the starting position is [2 2]\n",
      "There are 14 possible moves.\n",
      "When the dimension d = 4,\n",
      "the number of grid lines n = 4,\n",
      "the number of allowed moves m = 2,\n",
      "and the starting position is [0 0 0 0]\n",
      "There are 20 possible moves.\n",
      "When the dimension d = 4,\n",
      "the number of grid lines n = 4,\n",
      "the number of allowed moves m = 2,\n",
      "and the starting position is [2 2 2 2]\n",
      "There are 60 possible moves.\n",
      "When the dimension d = 6,\n",
      "the number of grid lines n = 4,\n",
      "the number of allowed moves m = 2,\n",
      "and the starting position is [0 0 0 0 0 0]\n",
      "There are 42 possible moves.\n",
      "When the dimension d = 6,\n",
      "the number of grid lines n = 4,\n",
      "the number of allowed moves m = 2,\n",
      "and the starting position is [2 2 2 2 2 2]\n",
      "There are 138 possible moves.\n"
     ]
    },
    {
     "ename": "KeyboardInterrupt",
     "evalue": "",
     "output_type": "error",
     "traceback": [
      "\u001b[0;31m---------------------------------------------------------------------------\u001b[0m",
      "\u001b[0;31mKeyboardInterrupt\u001b[0m                         Traceback (most recent call last)",
      "\u001b[0;32m<ipython-input-88-80aaa16dcdb7>\u001b[0m in \u001b[0;36m<module>\u001b[0;34m\u001b[0m\n\u001b[1;32m     36\u001b[0m     \u001b[0mcorner_start\u001b[0m \u001b[0;34m=\u001b[0m \u001b[0mcorner_start\u001b[0m\u001b[0;34m.\u001b[0m\u001b[0mastype\u001b[0m\u001b[0;34m(\u001b[0m\u001b[0mint\u001b[0m\u001b[0;34m)\u001b[0m\u001b[0;34m\u001b[0m\u001b[0;34m\u001b[0m\u001b[0m\n\u001b[1;32m     37\u001b[0m \u001b[0;34m\u001b[0m\u001b[0m\n\u001b[0;32m---> 38\u001b[0;31m     \u001b[0mcorner_paths\u001b[0m\u001b[0;34m[\u001b[0m\u001b[0mival\u001b[0m\u001b[0;34m]\u001b[0m \u001b[0;34m=\u001b[0m \u001b[0mlen\u001b[0m\u001b[0;34m(\u001b[0m\u001b[0mcompute_paths\u001b[0m\u001b[0;34m(\u001b[0m\u001b[0md\u001b[0m\u001b[0;34m,\u001b[0m \u001b[0mn\u001b[0m\u001b[0;34m,\u001b[0m \u001b[0mm\u001b[0m\u001b[0;34m,\u001b[0m \u001b[0mcorner_start\u001b[0m\u001b[0;34m,\u001b[0m \u001b[0mshowPath\u001b[0m\u001b[0;34m=\u001b[0m\u001b[0;32mFalse\u001b[0m\u001b[0;34m)\u001b[0m\u001b[0;34m)\u001b[0m\u001b[0;34m\u001b[0m\u001b[0;34m\u001b[0m\u001b[0m\n\u001b[0m\u001b[1;32m     39\u001b[0m     \u001b[0mcenter_paths\u001b[0m\u001b[0;34m[\u001b[0m\u001b[0mival\u001b[0m\u001b[0;34m]\u001b[0m \u001b[0;34m=\u001b[0m \u001b[0mlen\u001b[0m\u001b[0;34m(\u001b[0m\u001b[0mcompute_paths\u001b[0m\u001b[0;34m(\u001b[0m\u001b[0md\u001b[0m\u001b[0;34m,\u001b[0m \u001b[0mn\u001b[0m\u001b[0;34m,\u001b[0m \u001b[0mm\u001b[0m\u001b[0;34m,\u001b[0m \u001b[0mcenter_start\u001b[0m\u001b[0;34m,\u001b[0m \u001b[0mshowPath\u001b[0m\u001b[0;34m=\u001b[0m\u001b[0;32mFalse\u001b[0m\u001b[0;34m)\u001b[0m\u001b[0;34m)\u001b[0m\u001b[0;34m\u001b[0m\u001b[0;34m\u001b[0m\u001b[0m\n\u001b[1;32m     40\u001b[0m \u001b[0;34m\u001b[0m\u001b[0m\n",
      "\u001b[0;32m<ipython-input-47-b6cd3dd331cf>\u001b[0m in \u001b[0;36mcompute_paths\u001b[0;34m(nDims, nGridLines, nMoves, start, showPath)\u001b[0m\n\u001b[1;32m     34\u001b[0m     \u001b[0mdnn\u001b[0m \u001b[0;34m=\u001b[0m \u001b[0;34m[\u001b[0m\u001b[0;34m]\u001b[0m\u001b[0;34m\u001b[0m\u001b[0;34m\u001b[0m\u001b[0m\n\u001b[1;32m     35\u001b[0m     \u001b[0;32mfor\u001b[0m \u001b[0minode\u001b[0m\u001b[0;34m,\u001b[0m \u001b[0manode\u001b[0m \u001b[0;32min\u001b[0m \u001b[0menumerate\u001b[0m\u001b[0;34m(\u001b[0m\u001b[0mnodes\u001b[0m\u001b[0;34m)\u001b[0m\u001b[0;34m:\u001b[0m\u001b[0;34m\u001b[0m\u001b[0;34m\u001b[0m\u001b[0m\n\u001b[0;32m---> 36\u001b[0;31m         \u001b[0mdnn\u001b[0m\u001b[0;34m.\u001b[0m\u001b[0mappend\u001b[0m\u001b[0;34m(\u001b[0m\u001b[0mnp\u001b[0m\u001b[0;34m.\u001b[0m\u001b[0mlinalg\u001b[0m\u001b[0;34m.\u001b[0m\u001b[0mnorm\u001b[0m\u001b[0;34m(\u001b[0m\u001b[0mnp\u001b[0m\u001b[0;34m.\u001b[0m\u001b[0masarray\u001b[0m\u001b[0;34m(\u001b[0m\u001b[0manode\u001b[0m\u001b[0;34m)\u001b[0m \u001b[0;34m-\u001b[0m \u001b[0mnp\u001b[0m\u001b[0;34m.\u001b[0m\u001b[0masarray\u001b[0m\u001b[0;34m(\u001b[0m\u001b[0mnodes\u001b[0m\u001b[0;34m)\u001b[0m\u001b[0;34m,\u001b[0m \u001b[0maxis\u001b[0m\u001b[0;34m=\u001b[0m\u001b[0;36m1\u001b[0m\u001b[0;34m)\u001b[0m\u001b[0;34m)\u001b[0m\u001b[0;34m\u001b[0m\u001b[0;34m\u001b[0m\u001b[0m\n\u001b[0m\u001b[1;32m     37\u001b[0m     \u001b[0mdnn\u001b[0m \u001b[0;34m=\u001b[0m \u001b[0mnp\u001b[0m\u001b[0;34m.\u001b[0m\u001b[0masarray\u001b[0m\u001b[0;34m(\u001b[0m\u001b[0mdnn\u001b[0m\u001b[0;34m)\u001b[0m\u001b[0;34m\u001b[0m\u001b[0;34m\u001b[0m\u001b[0m\n\u001b[1;32m     38\u001b[0m \u001b[0;34m\u001b[0m\u001b[0m\n",
      "\u001b[0;31mKeyboardInterrupt\u001b[0m: "
     ]
    }
   ],
   "source": [
    "\"\"\"\n",
    "\n",
    "Consider the case where d=4, n=10, and m=10.\n",
    "\n",
    "Consider the count of valid walks associated with each possible starting position. \n",
    "What is the ratio of the highest count of valid walks to smallest count of valid walks?\n",
    "\n",
    "\"\"\"\n",
    "import sys\n",
    "# Assuming highest paths come from a centered position of form\n",
    "# start = [x0, x1, ..., xd ] where x0 = x1 = ... = xd = n/2.\n",
    "n = 4 # Number of grid lines\n",
    "d = 2 # Number of dimensions\n",
    "m = 2 # Number of moves\n",
    "start=np.array([int(n/2), int(n/2)])\n",
    "paths_n4d2m2 = compute_paths(d, n, m, start, showPath=True)\n",
    "\n",
    "ds = range(2, 10, 2)\n",
    "ds_paths = np.zeros(len(ds))\n",
    "\n",
    "center_paths = np.zeros(len(ds))\n",
    "corner_paths = np.zeros(len(ds))\n",
    "\n",
    "print(ds_paths)\n",
    "#sys.exit()\n",
    "# Iterate through different midpoints to see how n-paths differ at center\n",
    "for ival, d in enumerate(ds):\n",
    "    #start = np.ones((int(d), ))*int(n/2)\n",
    "    ##start = start.astype(int)\n",
    "    #ds_paths[ival] = len(compute_paths(d, n, m, start, showPath=False))\n",
    "    \n",
    "    center_start = np.ones((int(d),))*int(n/2)\n",
    "    center_start = center_start.astype(int)\n",
    "    \n",
    "    corner_start = np.zeros((int(d),))\n",
    "    corner_start = corner_start.astype(int)\n",
    "    \n",
    "    corner_paths[ival] = len(compute_paths(d, n, m, corner_start, showPath=False))\n",
    "    center_paths[ival] = len(compute_paths(d, n, m, center_start, showPath=False))\n",
    "\n",
    "ratio = center_paths/corner_paths\n",
    "print(\"Ratios are:\")\n",
    "print(ratio)\n",
    "\n",
    "plt.figure()\n",
    "plt.plot(ds, ratio, 'o')"
   ]
  },
  {
   "cell_type": "code",
   "execution_count": null,
   "metadata": {},
   "outputs": [
    {
     "name": "stdout",
     "output_type": "stream",
     "text": [
      "[0. 0. 0. 0.]\n",
      "When the dimension d = 4,\n",
      "the number of grid lines n = 10,\n",
      "the number of allowed moves m = 2,\n",
      "and the starting position is [0 0 0 0]\n",
      "There are 20 possible moves.\n",
      "When the dimension d = 4,\n",
      "the number of grid lines n = 10,\n",
      "the number of allowed moves m = 2,\n",
      "and the starting position is [5 5 5 5]\n",
      "There are 64 possible moves.\n",
      "When the dimension d = 4,\n",
      "the number of grid lines n = 10,\n",
      "the number of allowed moves m = 4,\n",
      "and the starting position is [0 0 0 0]\n",
      "There are 624 possible moves.\n",
      "When the dimension d = 4,\n",
      "the number of grid lines n = 10,\n",
      "the number of allowed moves m = 4,\n",
      "and the starting position is [5 5 5 5]\n",
      "There are 4096 possible moves.\n",
      "When the dimension d = 4,\n",
      "the number of grid lines n = 10,\n",
      "the number of allowed moves m = 6,\n",
      "and the starting position is [0 0 0 0]\n",
      "There are 23480 possible moves.\n",
      "When the dimension d = 4,\n",
      "the number of grid lines n = 10,\n",
      "the number of allowed moves m = 6,\n",
      "and the starting position is [5 5 5 5]\n",
      "There are 261988 possible moves.\n",
      "When the dimension d = 4,\n",
      "the number of grid lines n = 10,\n",
      "the number of allowed moves m = 8,\n",
      "and the starting position is [0 0 0 0]\n",
      "There are 986440 possible moves.\n"
     ]
    }
   ],
   "source": [
    "\"\"\"\n",
    "\n",
    "Consider the case where d=4, n=10, and m=10.\n",
    "\n",
    "Consider the count of valid walks associated with each possible starting position. \n",
    "What is the ratio of the highest count of valid walks to smallest count of valid walks?\n",
    "\n",
    "\"\"\"\n",
    "import sys\n",
    "# Assuming highest paths come from a centered position of form\n",
    "# start = [x0, x1, ..., xd ] where x0 = x1 = ... = xd = n/2.\n",
    "n = 10 # Number of grid lines\n",
    "d = 4 # Number of dimensions\n",
    "m = 2 # Number of moves\n",
    "\n",
    "ms = range(2, 10, 2)\n",
    "ms_paths = np.zeros(len(ds))\n",
    "\n",
    "center_paths = np.zeros(len(ds))\n",
    "corner_paths = np.zeros(len(ds))\n",
    "\n",
    "print(ds_paths)\n",
    "#sys.exit()\n",
    "# Iterate through different midpoints to see how n-paths differ at center\n",
    "for ival, m in enumerate(ms):\n",
    "    #start = np.ones((int(d), ))*int(n/2)\n",
    "    ##start = start.astype(int)\n",
    "    #ds_paths[ival] = len(compute_paths(d, n, m, start, showPath=False))\n",
    "    \n",
    "    center_start = np.ones((int(d),))*int(n/2)\n",
    "    center_start = center_start.astype(int)\n",
    "    \n",
    "    corner_start = np.zeros((int(d),))\n",
    "    corner_start = corner_start.astype(int)\n",
    "    \n",
    "    corner_paths[ival] = len(compute_paths(d, n, m, corner_start, showPath=False))\n",
    "    center_paths[ival] = len(compute_paths(d, n, m, center_start, showPath=False))\n",
    "\n",
    "ratio = center_paths/corner_paths\n",
    "print(\"Ratios are:\")\n",
    "print(ratio)\n",
    "\n",
    "plt.figure()\n",
    "plt.plot(ds, ratio, 'o')"
   ]
  },
  {
   "cell_type": "code",
   "execution_count": 56,
   "metadata": {},
   "outputs": [
    {
     "data": {
      "text/plain": [
       "range(2, 20, 2)"
      ]
     },
     "execution_count": 56,
     "metadata": {},
     "output_type": "execute_result"
    }
   ],
   "source": [
    "# We now do linear regression on these values to approximate the relationship between m and p, the fraction of moves\n"
   ]
  },
  {
   "cell_type": "code",
   "execution_count": 57,
   "metadata": {},
   "outputs": [
    {
     "name": "stdout",
     "output_type": "stream",
     "text": [
      "2\n",
      "4\n",
      "6\n",
      "8\n",
      "10\n",
      "12\n",
      "14\n",
      "16\n",
      "18\n"
     ]
    }
   ],
   "source": [
    "for val in ns:\n",
    "    print(val)"
   ]
  },
  {
   "cell_type": "code",
   "execution_count": null,
   "metadata": {},
   "outputs": [],
   "source": []
  }
 ],
 "metadata": {
  "kernelspec": {
   "display_name": "Python 3",
   "language": "python",
   "name": "python3"
  },
  "language_info": {
   "codemirror_mode": {
    "name": "ipython",
    "version": 3
   },
   "file_extension": ".py",
   "mimetype": "text/x-python",
   "name": "python",
   "nbconvert_exporter": "python",
   "pygments_lexer": "ipython3",
   "version": "3.7.4"
  }
 },
 "nbformat": 4,
 "nbformat_minor": 2
}
