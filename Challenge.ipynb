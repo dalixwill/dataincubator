{
 "cells": [
  {
   "cell_type": "markdown",
   "metadata": {},
   "source": [
    "# *go410*\n",
    "## *A self-guided tour of Charm City*\n",
    "### Darius Alix-Williams"
   ]
  },
  {
   "cell_type": "markdown",
   "metadata": {},
   "source": [
    "A walking tour needs points of interest. We can use data from the *Monuments* dataset (https://data.baltimorecity.gov/resource/cpxf-kxp3.csv), *Designated Landmarks* dataset (https://data.baltimorecity.gov/resource/cpd3-yi9b.csv) and *Baltimore City Murals Project* (https://data.baltimorecity.gov/resource/zqh4-9ud5.csv) to create an inventory or sites. \n",
    "\n",
    "Crime happens everywhere and Baltimore City is no exception. The safety of the go410 user is paramount. We will use current crime statistics from Baltimore Police Department to assess the relative safety of particular blocks. The *BPD Victim Based Crime Data* dataset is provided at https://data.baltimorecity.gov/resource/wsfq-mvij.csv. This dataset provides location-based crime statistics.\n",
    "\n"
   ]
  },
  {
   "cell_type": "code",
   "execution_count": 2,
   "metadata": {},
   "outputs": [],
   "source": [
    "import pandas as pd\n",
    "import numpy as np\n",
    "import matplotlib.pyplot as plt"
   ]
  },
  {
   "cell_type": "code",
   "execution_count": 4,
   "metadata": {},
   "outputs": [
    {
     "data": {
      "text/plain": [
       "array(['LARCENY', 'COMMON ASSAULT', 'ROBBERY - STREET',\n",
       "       'LARCENY FROM AUTO', 'ROBBERY - CARJACKING', 'AGG. ASSAULT',\n",
       "       'AUTO THEFT', 'ROBBERY - RESIDENCE', 'BURGLARY',\n",
       "       'ROBBERY - COMMERCIAL', 'SHOOTING', 'HOMICIDE', 'ARSON'],\n",
       "      dtype=object)"
      ]
     },
     "execution_count": 4,
     "metadata": {},
     "output_type": "execute_result"
    }
   ],
   "source": [
    "crime_data = pd.read_csv('https://data.baltimorecity.gov/resource/wsfq-mvij.csv')\n",
    "crime_data['description'].unique()"
   ]
  },
  {
   "cell_type": "markdown",
   "metadata": {},
   "source": [
    "As a first pass we will only consider crimes such as **common assault, street robbery, aggravated assault, shootings** and **homicides** in our assessment of safety as these types of crimes are more likely to affect a person on foot than a crime such as **commercial robbery** or **arson**."
   ]
  },
  {
   "cell_type": "code",
   "execution_count": 6,
   "metadata": {},
   "outputs": [
    {
     "data": {
      "text/plain": [
       "['crimedate',\n",
       " 'crimetime',\n",
       " 'crimecode',\n",
       " 'location',\n",
       " 'description',\n",
       " 'inside_outside',\n",
       " 'weapon',\n",
       " 'post',\n",
       " 'district',\n",
       " 'neighborhood',\n",
       " 'longitude',\n",
       " 'latitude',\n",
       " 'location_1',\n",
       " 'premise',\n",
       " 'vri_name1',\n",
       " 'total_incidents']"
      ]
     },
     "execution_count": 6,
     "metadata": {},
     "output_type": "execute_result"
    }
   ],
   "source": [
    "list(crime_data.columns)\n",
    "\n",
    "# Subset of data likely to affect a person on foot\n",
    "#pedCrime = crime_data[crime_data['descru']]"
   ]
  },
  {
   "cell_type": "code",
   "execution_count": 14,
   "metadata": {},
   "outputs": [
    {
     "name": "stdout",
     "output_type": "stream",
     "text": [
      "['LARCENY 6J' 'COMMON ASSAULT 4E' 'ROBBERY - STREET 3B'\n",
      " 'LARCENY FROM AUTO 6D' 'ROBBERY - STREET 3AK' 'LARCENY 6C'\n",
      " 'ROBBERY - CARJACKING 3AJF' 'LARCENY 6E' 'AGG. ASSAULT 4C'\n",
      " 'AUTO THEFT 7A' 'ROBBERY - RESIDENCE 3K' 'AGG. ASSAULT 4D'\n",
      " 'ROBBERY - STREET 3AO' 'BURGLARY 5B' 'BURGLARY 5C' 'AUTO THEFT 7C'\n",
      " 'LARCENY 6B' 'ROBBERY - STREET 3AF' 'BURGLARY 5A'\n",
      " 'ROBBERY - COMMERCIAL 3D' 'AGG. ASSAULT 4B' 'BURGLARY 5D' 'LARCENY 6G'\n",
      " 'SHOOTING 9S' 'ROBBERY - COMMERCIAL 3LF' 'BURGLARY 5G'\n",
      " 'ROBBERY - COMMERCIAL 3CF' 'ROBBERY - COMMERCIAL 3GF' 'LARCENY 6F'\n",
      " 'AGG. ASSAULT 4A' 'BURGLARY 5E' 'HOMICIDE 1A' 'ROBBERY - COMMERCIAL 3EF'\n",
      " 'ROBBERY - RESIDENCE 3JO' 'ROBBERY - CARJACKING 3BJ' 'LARCENY 6L'\n",
      " 'ROBBERY - COMMERCIAL 3CO' 'ARSON 8J' 'HOMICIDE 1O' 'ARSON 8AO'\n",
      " 'ROBBERY - COMMERCIAL 3CK' 'ROBBERY - RESIDENCE 3JK'\n",
      " 'ROBBERY - RESIDENCE 3JF']\n"
     ]
    }
   ],
   "source": [
    "# We would like to see the crime codes that correspond to each crime\n",
    "\n",
    "colCodes = crime_data['description'] + ' ' + crime_data['crimecode']\n",
    "print(colCodes.unique())"
   ]
  },
  {
   "cell_type": "markdown",
   "metadata": {},
   "source": [
    "We will only consider the following codes -\n",
    "    4E - Common Assault\n",
    "    3B, 3AK - Street Robbery\n",
    "    4A, 4B, 4C, 4D - Agg. Assault\n",
    "    9S - Shooting\n",
    "    1A - Homicide\n",
    " "
   ]
  },
  {
   "cell_type": "code",
   "execution_count": 28,
   "metadata": {},
   "outputs": [],
   "source": [
    "pedCrime = crime_data['crimecode'].isin(['3B', '3AK', '3AF','4A', '4B', '4C', '4D', '4E','9S', '1O'])"
   ]
  },
  {
   "cell_type": "code",
   "execution_count": 30,
   "metadata": {},
   "outputs": [
    {
     "data": {
      "text/plain": [
       "array(['PARKSIDE', 'HOWARD PARK', 'CENTRAL FOREST PARK', 'ROSEBANK',\n",
       "       'GREEKTOWN', nan, 'DUNBAR', 'CENTRAL PARK HEIGHTS',\n",
       "       'RESERVOIR HILL', 'FRANKLIN SQUARE', 'WALTHERSON',\n",
       "       'MCELDERRY PARK', 'REISTERSTOWN STATION', 'BALTIMORE HIGHLANDS',\n",
       "       'DOWNTOWN', 'ROSEMONT', 'CARROLL - CAMDEN INDUSTRIAL AREA',\n",
       "       'BELAIR-EDISON', 'THE ORCHARDS', 'CALLAWAY-GARRISON', 'BOOTH-BOYD',\n",
       "       'WAVERLY', 'HAMPDEN', 'NEW NORTHWOOD', 'EAST BALTIMORE MIDWA',\n",
       "       'HARFORD-ECHODALE-PER', 'UNIVERSITY OF MARYLA', 'CANTON',\n",
       "       'LAURAVILLE', 'EDMONDSON VILLAGE', 'MORRELL PARK', 'WAKEFIELD',\n",
       "       'GLEN', 'PATTERSON PLACE', 'ROGNEL HEIGHTS', 'MOUNT VERNON',\n",
       "       'BIDDLE STREET', 'CARROLLTON RIDGE', 'NORTH HARFORD ROAD',\n",
       "       'S.B.I.C.', 'FRANKFORD', 'CEDMONT', 'LAKELAND', 'FOREST PARK',\n",
       "       'IRVINGTON', 'JOHNSTON SQUARE', 'WASHINGTON VILLAGE', 'BROOKLYN',\n",
       "       'MIDDLE EAST', 'HARLEM PARK', 'NEW SOUTHWEST/MOUNT CLARE',\n",
       "       'ORANGEVILLE', 'BROADWAY EAST', 'FRANKLINTOWN ROAD',\n",
       "       'CLAREMONT-FREEDOM', 'CHARLES VILLAGE', 'SANDTOWN-WINCHESTER',\n",
       "       'ELLWOOD PARK/MONUMEN', 'CANTON INDUSTRIAL AREA',\n",
       "       'MID-TOWN BELVEDERE', 'HARWOOD', 'LOCH RAVEN', 'BALTIMORE-LINWOOD',\n",
       "       'SAINT AGNES', 'FELLS POINT', 'HUDSON-HIGHLANDTOWN', 'CHERRY HILL',\n",
       "       'BARCLAY', 'JONESTOWN', 'PENN NORTH', 'MOUNT WINANS',\n",
       "       'FEDERAL HILL/MONTGOM', 'GROVE PARK', 'INNER HARBOR',\n",
       "       'DRUID HEIGHTS', 'ARLINGTON', 'EVERGREEN', 'MOSHER',\n",
       "       'LOCUST POINT INDUSTRIAL AREA', 'CHINQUAPIN PARK/BELV',\n",
       "       'REMINGTON', 'RIVERSIDE', 'MONDAWMIN', 'POPPLETON', 'CURTIS BAY',\n",
       "       'HOES HEIGHTS', 'BOLTON HILL', 'EVERGREEN LAWN', 'WESTFIELD',\n",
       "       'BRIDGEVIEW/GREENLAWN', 'ASHBURTON', 'WOODBROOK', 'IDLEWOOD',\n",
       "       'COLDSTREAM HOMESTEAD', 'EASTERWOOD', 'ORIGINAL NORTHWOOD',\n",
       "       'WESTPORT', 'BRADDISH AVE./PANWAY', 'ROSEMONT HOMEOWNERS',\n",
       "       'BUTCHERS HILL', 'WILSON PARK', 'GWYNNS FALLS', 'MOUNT HOLLY',\n",
       "       'PENROSE/FAYETTE ST OUTREACH', 'NORTHWEST COMMUNITY',\n",
       "       'SOUTH CLIFTON PARK', 'COLDSPRING', 'ALLENDALE', 'BETTER WAVERLY',\n",
       "       'PURNELL', 'BEREA', 'MEDFORD', 'WEST ARLINGTON', 'UPLANDS',\n",
       "       'PULASKI INDUSTRIAL AREA', 'OLDTOWN', 'ARMISTEAD GARDENS',\n",
       "       'WINDSOR HILLS', 'GAY STREET', 'MOUNT WASHINGTON', 'BEECHFIELD',\n",
       "       'MEDFIELD', 'CHESWOLDE', 'WOODBOURNE MCCABE', 'UNION SQUARE',\n",
       "       'SHARP LEADENHALL', 'DORCHESTER/GRAN-BARR', 'SHIPLEY HILL',\n",
       "       'CHARLES NORTH', 'WEST FOREST PARK', 'MEDFORD/BROENING MAN',\n",
       "       'RADNOR-WINSTON', 'GLEN OAKS', 'UPTON', 'PARKLANE', 'WALBROOK',\n",
       "       'WYNDHURST', 'WEST HILLS', 'KENILWORTH PARK', 'OLIVER',\n",
       "       'MILL HILL', 'EAST ARLINGTON', 'VIOLETVILLE', 'GUILFORD',\n",
       "       'BELAIR-PARKSIDE', 'CEDONIA', 'JOSEPH LEE', 'DOLFIELD',\n",
       "       'LITTLE ITALY', 'CHRISTOPHER', 'ARCADIA', 'HOLLINS PARK',\n",
       "       'MORAVIA-WALTHER', 'GLENHAM-BELFORD', 'CONCERNED CITIZENS O',\n",
       "       'HANLON/LONGWOOD', 'GRACELAND PARK',\n",
       "       'NORTH ROLAND PARK/POPLAR HILL', 'PEN-FALLSWAY', 'PEN LUCY',\n",
       "       'JOHN HOPKINS HOMEWOO', 'GARWYN OAKS', 'ROLAND PARK',\n",
       "       'MIDDLE BRANCH/REEBIRD PARKS', 'WILSON HEIGHTS',\n",
       "       'UPPER FELLS POINT', 'WOODMERE', 'MAYFIELD', '4X4', 'MID-GOVANS',\n",
       "       'MADISON EASTEND', 'GREENMOUNT WEST', 'FALLSTAFF', 'KERNEWOOD',\n",
       "       'TUSCANY-CANTERBURY', 'OTTERBEIN', 'CAMERON VILLAGE',\n",
       "       'MILTON-MONTFORD', 'TEN HILLS', 'LIBERTY SQUARE', 'HOMELAND',\n",
       "       'RAMBLEWOOD', 'HILLEN', 'OVERLEA', 'SETON BUSINESS PARK',\n",
       "       'PARK CIRCLE', 'WASHINGTON HILL', 'DARLEY PARK',\n",
       "       'LOYOLA/NOTRE DAME', 'GREENSPRING', 'FAIRFIELD', 'LANGSTON HUGHES',\n",
       "       'ROSEMONT AVENUE', 'EDNOR GARDENS-LAKESI', 'BEVERLY HILLS',\n",
       "       'WOODBOURNE HEIGHTS', 'PERRING LOCH', 'SETON HILL',\n",
       "       'PIMLICO GOOD NEIGHBO', 'WOODBERRY', 'COPPIN HEIGHTS/ASHBU',\n",
       "       'MADISON PARK', 'CEDARCROFT', 'LUCILLE PARK', 'HUNTING RIDGE',\n",
       "       'LEVINDALE', 'FOREST PARK/GOLF COU', 'BREWERS HILL',\n",
       "       'MIDTOWN EDMONDSON', 'CARROLL-SOUTH HILTON'], dtype=object)"
      ]
     },
     "execution_count": 30,
     "metadata": {},
     "output_type": "execute_result"
    }
   ],
   "source": [
    "crime_data[pedCrime]\n",
    "crime_data['neighborhood'].unique()"
   ]
  },
  {
   "cell_type": "markdown",
   "metadata": {},
   "source": [
    "We would likely focus on a particular neighborhood to begin before rolling out the app in others throughout the city. There are a number of murals, statues and performing arts centers in the *Charles Village* neighborhood. We could compare the number of events and crime rates between this and the nearby *Waverly* neighborhood.\n"
   ]
  },
  {
   "cell_type": "markdown",
   "metadata": {},
   "source": []
  }
 ],
 "metadata": {
  "kernelspec": {
   "display_name": "Python 3",
   "language": "python",
   "name": "python3"
  },
  "language_info": {
   "codemirror_mode": {
    "name": "ipython",
    "version": 3
   },
   "file_extension": ".py",
   "mimetype": "text/x-python",
   "name": "python",
   "nbconvert_exporter": "python",
   "pygments_lexer": "ipython3",
   "version": "3.7.4"
  }
 },
 "nbformat": 4,
 "nbformat_minor": 2
}
